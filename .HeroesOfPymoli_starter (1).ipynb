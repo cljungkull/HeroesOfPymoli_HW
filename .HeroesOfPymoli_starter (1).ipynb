{
 "cells": [
  {
   "cell_type": "markdown",
   "metadata": {},
   "source": [
    "### Heroes Of Pymoli Data Analysis\n",
    "* Of the 1163 active players, the vast majority are male (84%). There also exists, a smaller, but notable proportion of female players (14%).\n",
    "\n",
    "* Our peak age demographic falls between 20-24 (44.8%) with secondary groups falling between 15-19 (18.60%) and 25-29 (13.4%).  \n",
    "-----"
   ]
  },
  {
   "cell_type": "markdown",
   "metadata": {},
   "source": [
    "### Note\n",
    "* Instructions have been included for each segment. You do not have to follow them exactly, but they are included to help you think through the steps."
   ]
  },
  {
   "cell_type": "code",
   "execution_count": 202,
   "metadata": {},
   "outputs": [
    {
     "name": "stdout",
     "output_type": "stream",
     "text": [
      "   Purchase ID             SN  Age Gender  Item ID  \\\n",
      "0            0        Lisim78   20   Male      108   \n",
      "1            1    Lisovynya38   40   Male      143   \n",
      "2            2     Ithergue48   24   Male       92   \n",
      "3            3  Chamassasya86   24   Male      100   \n",
      "4            4      Iskosia90   23   Male      131   \n",
      "\n",
      "                                   Item Name  Price  \n",
      "0  Extraction, Quickblade Of Trembling Hands   3.53  \n",
      "1                          Frenzied Scimitar   1.56  \n",
      "2                               Final Critic   4.88  \n",
      "3                                Blindscythe   3.27  \n",
      "4                                       Fury   1.44  \n",
      "\n",
      "<class 'pandas.core.frame.DataFrame'>\n",
      "RangeIndex: 780 entries, 0 to 779\n",
      "Data columns (total 7 columns):\n",
      "Purchase ID    780 non-null int64\n",
      "SN             780 non-null object\n",
      "Age            780 non-null int64\n",
      "Gender         780 non-null object\n",
      "Item ID        780 non-null int64\n",
      "Item Name      780 non-null object\n",
      "Price          780 non-null float64\n",
      "dtypes: float64(1), int64(3), object(3)\n",
      "memory usage: 42.7+ KB\n",
      "----------------\n"
     ]
    }
   ],
   "source": [
    "# Dependencies and Setup\n",
    "import pandas as pd\n",
    "import numpy as np\n",
    "\n",
    "# File to Load (Remember to Change These)\n",
    "file_to_load = \"Resources/purchase_data.csv\"\n",
    "\n",
    "# Read Purchasing File and store into Pandas data frame\n",
    "purchase_data = pd.read_csv(file_to_load)\n",
    "print(purchase_data.head())\n",
    "print()\n",
    "purchase_data.info()\n",
    "print('----------------')"
   ]
  },
  {
   "cell_type": "markdown",
   "metadata": {},
   "source": [
    "## Player Count"
   ]
  },
  {
   "cell_type": "markdown",
   "metadata": {},
   "source": [
    "* Display the total number of players\n"
   ]
  },
  {
   "cell_type": "code",
   "execution_count": 203,
   "metadata": {},
   "outputs": [
    {
     "data": {
      "text/plain": [
       "576"
      ]
     },
     "execution_count": 203,
     "metadata": {},
     "output_type": "execute_result"
    }
   ],
   "source": [
    "#total number of players who made purchses'\n",
    "players = purchase_data[\"SN\"].unique()\n",
    "total_players = len(players)\n",
    "total_players"
   ]
  },
  {
   "cell_type": "markdown",
   "metadata": {},
   "source": [
    "## Purchasing Analysis (Total)"
   ]
  },
  {
   "cell_type": "markdown",
   "metadata": {},
   "source": [
    "* Run basic calculations to obtain number of unique items, average price, etc.\n",
    "\n",
    "\n",
    "* Create a summary data frame to hold the results\n",
    "\n",
    "\n",
    "* Optional: give the displayed data cleaner formatting\n",
    "\n",
    "\n",
    "* Display the summary data frame\n"
   ]
  },
  {
   "cell_type": "code",
   "execution_count": 204,
   "metadata": {
    "scrolled": true
   },
   "outputs": [
    {
     "name": "stdout",
     "output_type": "stream",
     "text": [
      "number of unique items: 179\n",
      "avg price per item: 3.050987179487176\n",
      "number of purchases: 780\n",
      "total revenue: 2379.77\n"
     ]
    },
    {
     "data": {
      "text/html": [
       "<div>\n",
       "<style scoped>\n",
       "    .dataframe tbody tr th:only-of-type {\n",
       "        vertical-align: middle;\n",
       "    }\n",
       "\n",
       "    .dataframe tbody tr th {\n",
       "        vertical-align: top;\n",
       "    }\n",
       "\n",
       "    .dataframe thead th {\n",
       "        text-align: right;\n",
       "    }\n",
       "</style>\n",
       "<table border=\"1\" class=\"dataframe\">\n",
       "  <thead>\n",
       "    <tr style=\"text-align: right;\">\n",
       "      <th></th>\n",
       "      <th>Unique Items</th>\n",
       "      <th>Avg Price</th>\n",
       "      <th>Purchase Count</th>\n",
       "      <th>Total Sales</th>\n",
       "    </tr>\n",
       "  </thead>\n",
       "  <tbody>\n",
       "    <tr>\n",
       "      <th>0</th>\n",
       "      <td>179</td>\n",
       "      <td>3.050987</td>\n",
       "      <td>780</td>\n",
       "      <td>2379.77</td>\n",
       "    </tr>\n",
       "  </tbody>\n",
       "</table>\n",
       "</div>"
      ],
      "text/plain": [
       "   Unique Items  Avg Price  Purchase Count  Total Sales\n",
       "0           179   3.050987             780      2379.77"
      ]
     },
     "execution_count": 204,
     "metadata": {},
     "output_type": "execute_result"
    }
   ],
   "source": [
    "#number of unique items'\n",
    "unique = purchase_data['Item Name'].unique()\n",
    "unique_items = len(unique)\n",
    "print('number of unique items:', unique_items)\n",
    "\n",
    "#average price per item'\n",
    "avg = purchase_data['Price'].mean()\n",
    "print('avg price per item:', avg)\n",
    "\n",
    "#number of purchases'\n",
    "count = len(purchase_data[\"SN\"])\n",
    "print('number of purchases:', count)\n",
    "\n",
    "#total revenue'\n",
    "total_sales = purchase_data['Price'].sum()\n",
    "print('total revenue:', total_sales)\n",
    "\n",
    "summary_df = pd.DataFrame({'Unique Items':[unique_items], 'Avg Price':[avg], 'Purchase Count':[count], 'Total Sales':[total_sales]})\n",
    "summary_df"
   ]
  },
  {
   "cell_type": "markdown",
   "metadata": {},
   "source": [
    "## Gender Demographics"
   ]
  },
  {
   "cell_type": "markdown",
   "metadata": {},
   "source": [
    "* Percentage and Count of Male Players\n",
    "\n",
    "\n",
    "* Percentage and Count of Female Players\n",
    "\n",
    "\n",
    "* Percentage and Count of Other / Non-Disclosed\n",
    "\n",
    "\n"
   ]
  },
  {
   "cell_type": "code",
   "execution_count": 205,
   "metadata": {},
   "outputs": [
    {
     "name": "stdout",
     "output_type": "stream",
     "text": [
      "Total Players: 576\n"
     ]
    },
    {
     "data": {
      "text/html": [
       "<div>\n",
       "<style scoped>\n",
       "    .dataframe tbody tr th:only-of-type {\n",
       "        vertical-align: middle;\n",
       "    }\n",
       "\n",
       "    .dataframe tbody tr th {\n",
       "        vertical-align: top;\n",
       "    }\n",
       "\n",
       "    .dataframe thead th {\n",
       "        text-align: right;\n",
       "    }\n",
       "</style>\n",
       "<table border=\"1\" class=\"dataframe\">\n",
       "  <thead>\n",
       "    <tr style=\"text-align: right;\">\n",
       "      <th></th>\n",
       "      <th>Count</th>\n",
       "      <th>Percent</th>\n",
       "    </tr>\n",
       "    <tr>\n",
       "      <th>Gender</th>\n",
       "      <th></th>\n",
       "      <th></th>\n",
       "    </tr>\n",
       "  </thead>\n",
       "  <tbody>\n",
       "    <tr>\n",
       "      <th>Female</th>\n",
       "      <td>81</td>\n",
       "      <td>0.140625</td>\n",
       "    </tr>\n",
       "    <tr>\n",
       "      <th>Male</th>\n",
       "      <td>484</td>\n",
       "      <td>0.840278</td>\n",
       "    </tr>\n",
       "    <tr>\n",
       "      <th>Other / Non-Disclosed</th>\n",
       "      <td>11</td>\n",
       "      <td>0.019097</td>\n",
       "    </tr>\n",
       "  </tbody>\n",
       "</table>\n",
       "</div>"
      ],
      "text/plain": [
       "                       Count   Percent\n",
       "Gender                                \n",
       "Female                    81  0.140625\n",
       "Male                     484  0.840278\n",
       "Other / Non-Disclosed     11  0.019097"
      ]
     },
     "execution_count": 205,
     "metadata": {},
     "output_type": "execute_result"
    }
   ],
   "source": [
    "#create df with gender count with %\n",
    "total_players = purchase_data['SN'].nunique()\n",
    "print('Total Players:', total_players)\n",
    "gender_series = purchase_data.groupby('Gender')['SN'].nunique()\n",
    "gender_df = pd.DataFrame( {'Count': gender_series})\n",
    "gender_df['Percent'] = gender_df['Count'] / total_players\n",
    "\n",
    "gender_df.head()"
   ]
  },
  {
   "cell_type": "markdown",
   "metadata": {},
   "source": [
    "\n",
    "## Purchasing Analysis (Gender)"
   ]
  },
  {
   "cell_type": "markdown",
   "metadata": {},
   "source": [
    "* Run basic calculations to obtain purchase count, avg. purchase price, avg. purchase total per person etc. by gender\n",
    "\n",
    "\n",
    "\n",
    "\n",
    "* Create a summary data frame to hold the results\n",
    "\n",
    "\n",
    "* Optional: give the displayed data cleaner formatting\n",
    "\n",
    "\n",
    "* Display the summary data frame"
   ]
  },
  {
   "cell_type": "code",
   "execution_count": 206,
   "metadata": {},
   "outputs": [
    {
     "data": {
      "text/html": [
       "<div>\n",
       "<style scoped>\n",
       "    .dataframe tbody tr th:only-of-type {\n",
       "        vertical-align: middle;\n",
       "    }\n",
       "\n",
       "    .dataframe tbody tr th {\n",
       "        vertical-align: top;\n",
       "    }\n",
       "\n",
       "    .dataframe thead th {\n",
       "        text-align: right;\n",
       "    }\n",
       "</style>\n",
       "<table border=\"1\" class=\"dataframe\">\n",
       "  <thead>\n",
       "    <tr style=\"text-align: right;\">\n",
       "      <th></th>\n",
       "      <th>Count</th>\n",
       "      <th>Purchase Count</th>\n",
       "      <th>Average Purchase Price</th>\n",
       "      <th>Total Purchase Value</th>\n",
       "      <th>Avg Total Purchase per Person</th>\n",
       "    </tr>\n",
       "    <tr>\n",
       "      <th>Gender</th>\n",
       "      <th></th>\n",
       "      <th></th>\n",
       "      <th></th>\n",
       "      <th></th>\n",
       "      <th></th>\n",
       "    </tr>\n",
       "  </thead>\n",
       "  <tbody>\n",
       "    <tr>\n",
       "      <th>Female</th>\n",
       "      <td>81</td>\n",
       "      <td>113</td>\n",
       "      <td>3.203009</td>\n",
       "      <td>361.94</td>\n",
       "      <td>4.468395</td>\n",
       "    </tr>\n",
       "    <tr>\n",
       "      <th>Male</th>\n",
       "      <td>484</td>\n",
       "      <td>652</td>\n",
       "      <td>3.017853</td>\n",
       "      <td>1967.64</td>\n",
       "      <td>4.065372</td>\n",
       "    </tr>\n",
       "    <tr>\n",
       "      <th>Other / Non-Disclosed</th>\n",
       "      <td>11</td>\n",
       "      <td>15</td>\n",
       "      <td>3.346000</td>\n",
       "      <td>50.19</td>\n",
       "      <td>4.562727</td>\n",
       "    </tr>\n",
       "  </tbody>\n",
       "</table>\n",
       "</div>"
      ],
      "text/plain": [
       "                       Count  Purchase Count  Average Purchase Price  \\\n",
       "Gender                                                                 \n",
       "Female                    81             113                3.203009   \n",
       "Male                     484             652                3.017853   \n",
       "Other / Non-Disclosed     11              15                3.346000   \n",
       "\n",
       "                       Total Purchase Value  Avg Total Purchase per Person  \n",
       "Gender                                                                      \n",
       "Female                               361.94                       4.468395  \n",
       "Male                                1967.64                       4.065372  \n",
       "Other / Non-Disclosed                 50.19                       4.562727  "
      ]
     },
     "execution_count": 206,
     "metadata": {},
     "output_type": "execute_result"
    }
   ],
   "source": [
    "#count purchases\n",
    "gender_purch = pd.DataFrame(gender_df['Count'])\n",
    "gender_purch['Purchase Count'] = purchase_data.groupby('Gender')['Price'].count()\n",
    "\n",
    "#find average purchase price\n",
    "gender_purch['Average Purchase Price'] = purchase_data.groupby('Gender')['Price'].mean()\n",
    "gender_purch['Total Purchase Value'] = purchase_data.groupby('Gender')['Price'].sum()\n",
    "\n",
    "#find avg purchase per person by gender\n",
    "gender_purch['Avg Total Purchase per Person'] = gender_purch['Total Purchase Value'] / gender_purch['Count']\n",
    "gender_purch"
   ]
  },
  {
   "cell_type": "markdown",
   "metadata": {},
   "source": [
    "## Age Demographics"
   ]
  },
  {
   "cell_type": "markdown",
   "metadata": {},
   "source": [
    "* Establish bins for ages\n",
    "\n",
    "\n",
    "* Categorize the existing players using the age bins. Hint: use pd.cut()\n",
    "\n",
    "\n",
    "* Calculate the numbers and percentages by age group\n",
    "\n",
    "\n",
    "* Create a summary data frame to hold the results\n",
    "\n",
    "\n",
    "* Optional: round the percentage column to two decimal points\n",
    "\n",
    "\n",
    "* Display Age Demographics Table\n"
   ]
  },
  {
   "cell_type": "code",
   "execution_count": 207,
   "metadata": {},
   "outputs": [
    {
     "data": {
      "text/html": [
       "<div>\n",
       "<style scoped>\n",
       "    .dataframe tbody tr th:only-of-type {\n",
       "        vertical-align: middle;\n",
       "    }\n",
       "\n",
       "    .dataframe tbody tr th {\n",
       "        vertical-align: top;\n",
       "    }\n",
       "\n",
       "    .dataframe thead th {\n",
       "        text-align: right;\n",
       "    }\n",
       "</style>\n",
       "<table border=\"1\" class=\"dataframe\">\n",
       "  <thead>\n",
       "    <tr style=\"text-align: right;\">\n",
       "      <th></th>\n",
       "      <th>Count</th>\n",
       "      <th>Percent</th>\n",
       "    </tr>\n",
       "    <tr>\n",
       "      <th>Age Category</th>\n",
       "      <th></th>\n",
       "      <th></th>\n",
       "    </tr>\n",
       "  </thead>\n",
       "  <tbody>\n",
       "    <tr>\n",
       "      <th>(0, 9]</th>\n",
       "      <td>17</td>\n",
       "      <td>2.951389</td>\n",
       "    </tr>\n",
       "    <tr>\n",
       "      <th>(9, 14]</th>\n",
       "      <td>22</td>\n",
       "      <td>3.819444</td>\n",
       "    </tr>\n",
       "    <tr>\n",
       "      <th>(14, 19]</th>\n",
       "      <td>107</td>\n",
       "      <td>18.576389</td>\n",
       "    </tr>\n",
       "    <tr>\n",
       "      <th>(19, 24]</th>\n",
       "      <td>258</td>\n",
       "      <td>44.791667</td>\n",
       "    </tr>\n",
       "    <tr>\n",
       "      <th>(24, 29]</th>\n",
       "      <td>77</td>\n",
       "      <td>13.368056</td>\n",
       "    </tr>\n",
       "    <tr>\n",
       "      <th>(29, 34]</th>\n",
       "      <td>52</td>\n",
       "      <td>9.027778</td>\n",
       "    </tr>\n",
       "    <tr>\n",
       "      <th>(34, 39]</th>\n",
       "      <td>31</td>\n",
       "      <td>5.381944</td>\n",
       "    </tr>\n",
       "    <tr>\n",
       "      <th>(39, 100]</th>\n",
       "      <td>12</td>\n",
       "      <td>2.083333</td>\n",
       "    </tr>\n",
       "  </tbody>\n",
       "</table>\n",
       "</div>"
      ],
      "text/plain": [
       "              Count    Percent\n",
       "Age Category                  \n",
       "(0, 9]           17   2.951389\n",
       "(9, 14]          22   3.819444\n",
       "(14, 19]        107  18.576389\n",
       "(19, 24]        258  44.791667\n",
       "(24, 29]         77  13.368056\n",
       "(29, 34]         52   9.027778\n",
       "(34, 39]         31   5.381944\n",
       "(39, 100]        12   2.083333"
      ]
     },
     "execution_count": 207,
     "metadata": {},
     "output_type": "execute_result"
    }
   ],
   "source": [
    "unique_SN = purchase_data.groupby('SN').first()\n",
    "#age_cat = pd.DataFrame(purchase_data['SN'].unique())\n",
    "\n",
    "unique_SN['Age Category'] = pd.cut(unique_SN['Age'], [0,9,14,19,24,29,34,39,100])\n",
    "age_demo = pd.DataFrame(unique_SN.groupby('Age Category')['Age Category'].count())\n",
    "age_demo.rename(columns={'Age Category':'Count'}, inplace=True)\n",
    "total = age_demo['Count'].sum()\n",
    "\n",
    "#find the %\n",
    "age_demo['Percent'] = 100*age_demo['Count']/total\n",
    "age_demo"
   ]
  },
  {
   "cell_type": "markdown",
   "metadata": {},
   "source": [
    "## Purchasing Analysis (Age)"
   ]
  },
  {
   "cell_type": "markdown",
   "metadata": {},
   "source": [
    "* Bin the purchase_data data frame by age\n",
    "\n",
    "\n",
    "* Run basic calculations to obtain purchase count, avg. purchase price, avg. purchase total per person etc. in the table below\n",
    "\n",
    "\n",
    "* Create a summary data frame to hold the results\n",
    "\n",
    "\n",
    "* Optional: give the displayed data cleaner formatting\n",
    "\n",
    "\n",
    "* Display the summary data frame"
   ]
  },
  {
   "cell_type": "code",
   "execution_count": 208,
   "metadata": {},
   "outputs": [],
   "source": [
    "#group by SN to find amount of purchases and average price per person \n",
    "purchase_data.loc[(purchase_data['Age'] < 10), 'age_bin'] = \"< 10\"\n",
    "purchase_data.loc[(purchase_data['Age'] >= 10) & (purchase_data['Age'] <= 14), 'age_bin'] = \"10 - 14\"\n",
    "purchase_data.loc[(purchase_data['Age'] >= 15) & (purchase_data['Age'] <= 19), 'age_bin'] = \"15 - 19\"\n",
    "purchase_data.loc[(purchase_data['Age'] >= 20) & (purchase_data['Age'] <= 24), 'age_bin'] = \"20 - 24\"\n",
    "purchase_data.loc[(purchase_data['Age'] >= 25) & (purchase_data['Age'] <= 29), 'age_bin'] = \"25 - 29\"\n",
    "purchase_data.loc[(purchase_data['Age'] >= 30) & (purchase_data['Age'] <= 34), 'age_bin'] = \"30 - 34\"\n",
    "purchase_data.loc[(purchase_data['Age'] >= 35) & (purchase_data['Age'] <= 39), 'age_bin'] = \"35 - 39\"\n",
    "purchase_data.loc[(purchase_data['Age'] >= 40), 'age_bin'] = \"> 40\""
   ]
  },
  {
   "cell_type": "code",
   "execution_count": 209,
   "metadata": {},
   "outputs": [
    {
     "data": {
      "text/html": [
       "<style  type=\"text/css\" >\n",
       "</style><table id=\"T_dcc850e2_93c3_11e9_9ae3_04d3b04b338f\" ><thead>    <tr>        <th class=\"blank level0\" ></th>        <th class=\"col_heading level0 col0\" >Purchase Count</th>        <th class=\"col_heading level0 col1\" >Average Purchase Price</th>        <th class=\"col_heading level0 col2\" >Total Purchase Value</th>        <th class=\"col_heading level0 col3\" >Avg Total of Purchasers</th>        <th class=\"col_heading level0 col4\" >Normalized Totals</th>    </tr>    <tr>        <th class=\"index_name level0\" >Age</th>        <th class=\"blank\" ></th>        <th class=\"blank\" ></th>        <th class=\"blank\" ></th>        <th class=\"blank\" ></th>        <th class=\"blank\" ></th>    </tr></thead><tbody>\n",
       "                <tr>\n",
       "                        <th id=\"T_dcc850e2_93c3_11e9_9ae3_04d3b04b338flevel0_row0\" class=\"row_heading level0 row0\" >10 - 14</th>\n",
       "                        <td id=\"T_dcc850e2_93c3_11e9_9ae3_04d3b04b338frow0_col0\" class=\"data row0 col0\" >28</td>\n",
       "                        <td id=\"T_dcc850e2_93c3_11e9_9ae3_04d3b04b338frow0_col1\" class=\"data row0 col1\" >$2.96</td>\n",
       "                        <td id=\"T_dcc850e2_93c3_11e9_9ae3_04d3b04b338frow0_col2\" class=\"data row0 col2\" >$82.78</td>\n",
       "                        <td id=\"T_dcc850e2_93c3_11e9_9ae3_04d3b04b338frow0_col3\" class=\"data row0 col3\" >22</td>\n",
       "                        <td id=\"T_dcc850e2_93c3_11e9_9ae3_04d3b04b338frow0_col4\" class=\"data row0 col4\" >$2.96</td>\n",
       "            </tr>\n",
       "            <tr>\n",
       "                        <th id=\"T_dcc850e2_93c3_11e9_9ae3_04d3b04b338flevel0_row1\" class=\"row_heading level0 row1\" >15 - 19</th>\n",
       "                        <td id=\"T_dcc850e2_93c3_11e9_9ae3_04d3b04b338frow1_col0\" class=\"data row1 col0\" >136</td>\n",
       "                        <td id=\"T_dcc850e2_93c3_11e9_9ae3_04d3b04b338frow1_col1\" class=\"data row1 col1\" >$3.04</td>\n",
       "                        <td id=\"T_dcc850e2_93c3_11e9_9ae3_04d3b04b338frow1_col2\" class=\"data row1 col2\" >$412.89</td>\n",
       "                        <td id=\"T_dcc850e2_93c3_11e9_9ae3_04d3b04b338frow1_col3\" class=\"data row1 col3\" >107</td>\n",
       "                        <td id=\"T_dcc850e2_93c3_11e9_9ae3_04d3b04b338frow1_col4\" class=\"data row1 col4\" >$3.04</td>\n",
       "            </tr>\n",
       "            <tr>\n",
       "                        <th id=\"T_dcc850e2_93c3_11e9_9ae3_04d3b04b338flevel0_row2\" class=\"row_heading level0 row2\" >20 - 24</th>\n",
       "                        <td id=\"T_dcc850e2_93c3_11e9_9ae3_04d3b04b338frow2_col0\" class=\"data row2 col0\" >365</td>\n",
       "                        <td id=\"T_dcc850e2_93c3_11e9_9ae3_04d3b04b338frow2_col1\" class=\"data row2 col1\" >$3.05</td>\n",
       "                        <td id=\"T_dcc850e2_93c3_11e9_9ae3_04d3b04b338frow2_col2\" class=\"data row2 col2\" >$1114.06</td>\n",
       "                        <td id=\"T_dcc850e2_93c3_11e9_9ae3_04d3b04b338frow2_col3\" class=\"data row2 col3\" >258</td>\n",
       "                        <td id=\"T_dcc850e2_93c3_11e9_9ae3_04d3b04b338frow2_col4\" class=\"data row2 col4\" >$3.05</td>\n",
       "            </tr>\n",
       "            <tr>\n",
       "                        <th id=\"T_dcc850e2_93c3_11e9_9ae3_04d3b04b338flevel0_row3\" class=\"row_heading level0 row3\" >25 - 29</th>\n",
       "                        <td id=\"T_dcc850e2_93c3_11e9_9ae3_04d3b04b338frow3_col0\" class=\"data row3 col0\" >101</td>\n",
       "                        <td id=\"T_dcc850e2_93c3_11e9_9ae3_04d3b04b338frow3_col1\" class=\"data row3 col1\" >$2.90</td>\n",
       "                        <td id=\"T_dcc850e2_93c3_11e9_9ae3_04d3b04b338frow3_col2\" class=\"data row3 col2\" >$293.00</td>\n",
       "                        <td id=\"T_dcc850e2_93c3_11e9_9ae3_04d3b04b338frow3_col3\" class=\"data row3 col3\" >77</td>\n",
       "                        <td id=\"T_dcc850e2_93c3_11e9_9ae3_04d3b04b338frow3_col4\" class=\"data row3 col4\" >$2.90</td>\n",
       "            </tr>\n",
       "            <tr>\n",
       "                        <th id=\"T_dcc850e2_93c3_11e9_9ae3_04d3b04b338flevel0_row4\" class=\"row_heading level0 row4\" >30 - 34</th>\n",
       "                        <td id=\"T_dcc850e2_93c3_11e9_9ae3_04d3b04b338frow4_col0\" class=\"data row4 col0\" >73</td>\n",
       "                        <td id=\"T_dcc850e2_93c3_11e9_9ae3_04d3b04b338frow4_col1\" class=\"data row4 col1\" >$2.93</td>\n",
       "                        <td id=\"T_dcc850e2_93c3_11e9_9ae3_04d3b04b338frow4_col2\" class=\"data row4 col2\" >$214.00</td>\n",
       "                        <td id=\"T_dcc850e2_93c3_11e9_9ae3_04d3b04b338frow4_col3\" class=\"data row4 col3\" >52</td>\n",
       "                        <td id=\"T_dcc850e2_93c3_11e9_9ae3_04d3b04b338frow4_col4\" class=\"data row4 col4\" >$2.93</td>\n",
       "            </tr>\n",
       "            <tr>\n",
       "                        <th id=\"T_dcc850e2_93c3_11e9_9ae3_04d3b04b338flevel0_row5\" class=\"row_heading level0 row5\" >35 - 39</th>\n",
       "                        <td id=\"T_dcc850e2_93c3_11e9_9ae3_04d3b04b338frow5_col0\" class=\"data row5 col0\" >41</td>\n",
       "                        <td id=\"T_dcc850e2_93c3_11e9_9ae3_04d3b04b338frow5_col1\" class=\"data row5 col1\" >$3.60</td>\n",
       "                        <td id=\"T_dcc850e2_93c3_11e9_9ae3_04d3b04b338frow5_col2\" class=\"data row5 col2\" >$147.67</td>\n",
       "                        <td id=\"T_dcc850e2_93c3_11e9_9ae3_04d3b04b338frow5_col3\" class=\"data row5 col3\" >31</td>\n",
       "                        <td id=\"T_dcc850e2_93c3_11e9_9ae3_04d3b04b338frow5_col4\" class=\"data row5 col4\" >$3.60</td>\n",
       "            </tr>\n",
       "            <tr>\n",
       "                        <th id=\"T_dcc850e2_93c3_11e9_9ae3_04d3b04b338flevel0_row6\" class=\"row_heading level0 row6\" >< 10</th>\n",
       "                        <td id=\"T_dcc850e2_93c3_11e9_9ae3_04d3b04b338frow6_col0\" class=\"data row6 col0\" >23</td>\n",
       "                        <td id=\"T_dcc850e2_93c3_11e9_9ae3_04d3b04b338frow6_col1\" class=\"data row6 col1\" >$3.35</td>\n",
       "                        <td id=\"T_dcc850e2_93c3_11e9_9ae3_04d3b04b338frow6_col2\" class=\"data row6 col2\" >$77.13</td>\n",
       "                        <td id=\"T_dcc850e2_93c3_11e9_9ae3_04d3b04b338frow6_col3\" class=\"data row6 col3\" >17</td>\n",
       "                        <td id=\"T_dcc850e2_93c3_11e9_9ae3_04d3b04b338frow6_col4\" class=\"data row6 col4\" >$3.35</td>\n",
       "            </tr>\n",
       "            <tr>\n",
       "                        <th id=\"T_dcc850e2_93c3_11e9_9ae3_04d3b04b338flevel0_row7\" class=\"row_heading level0 row7\" >> 40</th>\n",
       "                        <td id=\"T_dcc850e2_93c3_11e9_9ae3_04d3b04b338frow7_col0\" class=\"data row7 col0\" >13</td>\n",
       "                        <td id=\"T_dcc850e2_93c3_11e9_9ae3_04d3b04b338frow7_col1\" class=\"data row7 col1\" >$2.94</td>\n",
       "                        <td id=\"T_dcc850e2_93c3_11e9_9ae3_04d3b04b338frow7_col2\" class=\"data row7 col2\" >$38.24</td>\n",
       "                        <td id=\"T_dcc850e2_93c3_11e9_9ae3_04d3b04b338frow7_col3\" class=\"data row7 col3\" >12</td>\n",
       "                        <td id=\"T_dcc850e2_93c3_11e9_9ae3_04d3b04b338frow7_col4\" class=\"data row7 col4\" >$2.94</td>\n",
       "            </tr>\n",
       "    </tbody></table>"
      ],
      "text/plain": [
       "<pandas.io.formats.style.Styler at 0x236fd00e3c8>"
      ]
     },
     "execution_count": 209,
     "metadata": {},
     "output_type": "execute_result"
    }
   ],
   "source": [
    "# counts purchases by age bin by counting screen names (non-unique)\n",
    "pur_count_age = pd.DataFrame(purchase_data.groupby('age_bin')['SN'].count())\n",
    "\n",
    "#finds avg price of purchases by age bin\n",
    "avg_price_age = pd.DataFrame(purchase_data.groupby('age_bin')['Price'].mean())\n",
    "\n",
    "#finds total purchase value by age bin\n",
    "tot_pur_age = pd.DataFrame(purchase_data.groupby('age_bin')['Price'].sum())\n",
    "\n",
    "#players by age bin\n",
    "no_dup_age = pd.DataFrame(purchase_data.drop_duplicates('SN', keep = 'last').groupby('age_bin')['SN'].count())\n",
    "\n",
    "#merges all info from above into one df\n",
    "merge_age = pd.merge(pur_count_age, avg_price_age, left_index = True, right_index = True).merge(tot_pur_age, left_index\n",
    "= True, right_index = True).merge(no_dup_age, left_index = True, right_index = True)\n",
    "\n",
    "#renames columns\n",
    "merge_age.rename(columns = {\"SN_x\": \"Purchase Count\", \"Price_x\": \"Average Purchase Price\", \"Price_y\": \"Total Purchase Value\",\n",
    "\"SN_y\": \"Avg Total of Purchasers\"}, inplace = True)\n",
    "\n",
    "merge_age['Normalized Totals'] = merge_age['Total Purchase Value']/merge_age['Purchase Count']\n",
    "#rest index for aesthetics\n",
    "merge_age.index.rename(\"Age\", inplace = True)\n",
    "\n",
    "merge_age.style.format({'Average Purchase Price': '${:.2f}', 'Total Purchase Value': '${:.2f}', 'Normalized Totals': '${:.2f}'})"
   ]
  },
  {
   "cell_type": "markdown",
   "metadata": {},
   "source": [
    "## Top Spenders"
   ]
  },
  {
   "cell_type": "markdown",
   "metadata": {},
   "source": [
    "* Run basic calculations to obtain the results in the table below\n",
    "\n",
    "\n",
    "* Create a summary data frame to hold the results\n",
    "\n",
    "\n",
    "* Sort the total purchase value column in descending order\n",
    "\n",
    "\n",
    "* Optional: give the displayed data cleaner formatting\n",
    "\n",
    "\n",
    "* Display a preview of the summary data frame\n",
    "\n"
   ]
  },
  {
   "cell_type": "code",
   "execution_count": 210,
   "metadata": {},
   "outputs": [
    {
     "data": {
      "text/html": [
       "<style  type=\"text/css\" >\n",
       "</style><table id=\"T_def032d8_93c3_11e9_91e6_04d3b04b338f\" ><thead>    <tr>        <th class=\"blank level0\" ></th>        <th class=\"col_heading level0 col0\" >Total Purchase Value</th>        <th class=\"col_heading level0 col1\" >Purchase Count</th>        <th class=\"col_heading level0 col2\" >Average Purchase Price</th>    </tr>    <tr>        <th class=\"index_name level0\" >SN</th>        <th class=\"blank\" ></th>        <th class=\"blank\" ></th>        <th class=\"blank\" ></th>    </tr></thead><tbody>\n",
       "                <tr>\n",
       "                        <th id=\"T_def032d8_93c3_11e9_91e6_04d3b04b338flevel0_row0\" class=\"row_heading level0 row0\" >Lisosia93</th>\n",
       "                        <td id=\"T_def032d8_93c3_11e9_91e6_04d3b04b338frow0_col0\" class=\"data row0 col0\" >$18.96</td>\n",
       "                        <td id=\"T_def032d8_93c3_11e9_91e6_04d3b04b338frow0_col1\" class=\"data row0 col1\" >5</td>\n",
       "                        <td id=\"T_def032d8_93c3_11e9_91e6_04d3b04b338frow0_col2\" class=\"data row0 col2\" >$3.79</td>\n",
       "            </tr>\n",
       "            <tr>\n",
       "                        <th id=\"T_def032d8_93c3_11e9_91e6_04d3b04b338flevel0_row1\" class=\"row_heading level0 row1\" >Idastidru52</th>\n",
       "                        <td id=\"T_def032d8_93c3_11e9_91e6_04d3b04b338frow1_col0\" class=\"data row1 col0\" >$15.45</td>\n",
       "                        <td id=\"T_def032d8_93c3_11e9_91e6_04d3b04b338frow1_col1\" class=\"data row1 col1\" >4</td>\n",
       "                        <td id=\"T_def032d8_93c3_11e9_91e6_04d3b04b338frow1_col2\" class=\"data row1 col2\" >$3.86</td>\n",
       "            </tr>\n",
       "            <tr>\n",
       "                        <th id=\"T_def032d8_93c3_11e9_91e6_04d3b04b338flevel0_row2\" class=\"row_heading level0 row2\" >Chamjask73</th>\n",
       "                        <td id=\"T_def032d8_93c3_11e9_91e6_04d3b04b338frow2_col0\" class=\"data row2 col0\" >$13.83</td>\n",
       "                        <td id=\"T_def032d8_93c3_11e9_91e6_04d3b04b338frow2_col1\" class=\"data row2 col1\" >3</td>\n",
       "                        <td id=\"T_def032d8_93c3_11e9_91e6_04d3b04b338frow2_col2\" class=\"data row2 col2\" >$4.61</td>\n",
       "            </tr>\n",
       "            <tr>\n",
       "                        <th id=\"T_def032d8_93c3_11e9_91e6_04d3b04b338flevel0_row3\" class=\"row_heading level0 row3\" >Iral74</th>\n",
       "                        <td id=\"T_def032d8_93c3_11e9_91e6_04d3b04b338frow3_col0\" class=\"data row3 col0\" >$13.62</td>\n",
       "                        <td id=\"T_def032d8_93c3_11e9_91e6_04d3b04b338frow3_col1\" class=\"data row3 col1\" >4</td>\n",
       "                        <td id=\"T_def032d8_93c3_11e9_91e6_04d3b04b338frow3_col2\" class=\"data row3 col2\" >$3.40</td>\n",
       "            </tr>\n",
       "            <tr>\n",
       "                        <th id=\"T_def032d8_93c3_11e9_91e6_04d3b04b338flevel0_row4\" class=\"row_heading level0 row4\" >Iskadarya95</th>\n",
       "                        <td id=\"T_def032d8_93c3_11e9_91e6_04d3b04b338frow4_col0\" class=\"data row4 col0\" >$13.10</td>\n",
       "                        <td id=\"T_def032d8_93c3_11e9_91e6_04d3b04b338frow4_col1\" class=\"data row4 col1\" >3</td>\n",
       "                        <td id=\"T_def032d8_93c3_11e9_91e6_04d3b04b338frow4_col2\" class=\"data row4 col2\" >$4.37</td>\n",
       "            </tr>\n",
       "    </tbody></table>"
      ],
      "text/plain": [
       "<pandas.io.formats.style.Styler at 0x236fd00fc18>"
      ]
     },
     "execution_count": 210,
     "metadata": {},
     "output_type": "execute_result"
    }
   ],
   "source": [
    "#Group by screen name to find, total purchase per person, number of purchases per person, and average price price per person\n",
    "purchase_amt_by_SN = pd.DataFrame(purchase_data.groupby('SN')['Price'].sum())\n",
    "num_purchase_by_SN = pd.DataFrame(purchase_data.groupby('SN')['Price'].count())\n",
    "avg_purchase_by_SN = pd.DataFrame(purchase_data.groupby('SN')['Price'].mean())\n",
    "\n",
    "# merge the above dfs\n",
    "merged_top5 = pd.merge(purchase_amt_by_SN, num_purchase_by_SN, left_index = True,\n",
    "right_index = True).merge(avg_purchase_by_SN, left_index=True, right_index=True)\n",
    "\n",
    "# rename columns\n",
    "merged_top5.rename(columns = {'Price_x': 'Total Purchase Value', 'Price_y':'Purchase Count',\n",
    "                              'Price':'Average Purchase Price'}, inplace = True)\n",
    "\n",
    "# sort from highest purchase value to lowest\n",
    "merged_top5.sort_values('Total Purchase Value', ascending = False, inplace=True)\n",
    "\n",
    "# top 5 only\n",
    "merged_top5 = merged_top5.head()\n",
    "\n",
    "# format\n",
    "merged_top5.style.format({'Total Purchase Value': '${:.2f}', 'Average Purchase Price': '${:.2f}'})"
   ]
  },
  {
   "cell_type": "code",
   "execution_count": 215,
   "metadata": {},
   "outputs": [
    {
     "data": {
      "text/plain": [
       "Index(['Purchase ID', 'SN', 'Age', 'Gender', 'Item ID', 'Item Name', 'Price',\n",
       "       'age_bin'],\n",
       "      dtype='object')"
      ]
     },
     "execution_count": 215,
     "metadata": {},
     "output_type": "execute_result"
    }
   ],
   "source": [
    "purchase_data.columns"
   ]
  },
  {
   "cell_type": "markdown",
   "metadata": {},
   "source": [
    "## Most Popular Items"
   ]
  },
  {
   "cell_type": "markdown",
   "metadata": {},
   "source": [
    "* Retrieve the Item ID, Item Name, and Item Price columns\n",
    "\n",
    "\n",
    "* Group by Item ID and Item Name. Perform calculations to obtain purchase count, item price, and total purchase value\n",
    "\n",
    "\n",
    "* Create a summary data frame to hold the results\n",
    "\n",
    "\n",
    "* Sort the purchase count column in descending order\n",
    "\n",
    "\n",
    "* Optional: give the displayed data cleaner formatting\n",
    "\n",
    "\n",
    "* Display a preview of the summary data frame\n",
    "\n"
   ]
  },
  {
   "cell_type": "code",
   "execution_count": 214,
   "metadata": {},
   "outputs": [
    {
     "ename": "KeyError",
     "evalue": "\"['Item Name', 'Item ID_x'] not in index\"",
     "output_type": "error",
     "traceback": [
      "\u001b[1;31m---------------------------------------------------------------------------\u001b[0m",
      "\u001b[1;31mKeyError\u001b[0m                                  Traceback (most recent call last)",
      "\u001b[1;32m<ipython-input-214-47aaaa30c668>\u001b[0m in \u001b[0;36m<module>\u001b[1;34m\u001b[0m\n\u001b[0;32m     23\u001b[0m \u001b[1;33m\u001b[0m\u001b[0m\n\u001b[0;32m     24\u001b[0m \u001b[1;31m#keep only neede columns\u001b[0m\u001b[1;33m\u001b[0m\u001b[1;33m\u001b[0m\u001b[1;33m\u001b[0m\u001b[0m\n\u001b[1;32m---> 25\u001b[1;33m \u001b[0mtop5_merge_ID\u001b[0m \u001b[1;33m=\u001b[0m \u001b[0mtop5_merge_ID\u001b[0m\u001b[1;33m[\u001b[0m\u001b[1;33m[\u001b[0m\u001b[1;34m'Item ID'\u001b[0m\u001b[1;33m,\u001b[0m \u001b[1;34m'Item Name'\u001b[0m\u001b[1;33m,\u001b[0m \u001b[1;34m'Item ID_x'\u001b[0m\u001b[1;33m,\u001b[0m \u001b[1;34m'Price_y'\u001b[0m\u001b[1;33m,\u001b[0m \u001b[1;34m'Price_x'\u001b[0m\u001b[1;33m]\u001b[0m\u001b[1;33m]\u001b[0m\u001b[1;33m\u001b[0m\u001b[1;33m\u001b[0m\u001b[0m\n\u001b[0m\u001b[0;32m     26\u001b[0m \u001b[1;33m\u001b[0m\u001b[0m\n\u001b[0;32m     27\u001b[0m \u001b[1;31m#reset index as item ID for aesthetics\u001b[0m\u001b[1;33m\u001b[0m\u001b[1;33m\u001b[0m\u001b[1;33m\u001b[0m\u001b[0m\n",
      "\u001b[1;32m~\\Anaconda3\\lib\\site-packages\\pandas\\core\\frame.py\u001b[0m in \u001b[0;36m__getitem__\u001b[1;34m(self, key)\u001b[0m\n\u001b[0;32m   2932\u001b[0m                 \u001b[0mkey\u001b[0m \u001b[1;33m=\u001b[0m \u001b[0mlist\u001b[0m\u001b[1;33m(\u001b[0m\u001b[0mkey\u001b[0m\u001b[1;33m)\u001b[0m\u001b[1;33m\u001b[0m\u001b[1;33m\u001b[0m\u001b[0m\n\u001b[0;32m   2933\u001b[0m             indexer = self.loc._convert_to_indexer(key, axis=1,\n\u001b[1;32m-> 2934\u001b[1;33m                                                    raise_missing=True)\n\u001b[0m\u001b[0;32m   2935\u001b[0m \u001b[1;33m\u001b[0m\u001b[0m\n\u001b[0;32m   2936\u001b[0m         \u001b[1;31m# take() does not accept boolean indexers\u001b[0m\u001b[1;33m\u001b[0m\u001b[1;33m\u001b[0m\u001b[1;33m\u001b[0m\u001b[0m\n",
      "\u001b[1;32m~\\Anaconda3\\lib\\site-packages\\pandas\\core\\indexing.py\u001b[0m in \u001b[0;36m_convert_to_indexer\u001b[1;34m(self, obj, axis, is_setter, raise_missing)\u001b[0m\n\u001b[0;32m   1352\u001b[0m                 kwargs = {'raise_missing': True if is_setter else\n\u001b[0;32m   1353\u001b[0m                           raise_missing}\n\u001b[1;32m-> 1354\u001b[1;33m                 \u001b[1;32mreturn\u001b[0m \u001b[0mself\u001b[0m\u001b[1;33m.\u001b[0m\u001b[0m_get_listlike_indexer\u001b[0m\u001b[1;33m(\u001b[0m\u001b[0mobj\u001b[0m\u001b[1;33m,\u001b[0m \u001b[0maxis\u001b[0m\u001b[1;33m,\u001b[0m \u001b[1;33m**\u001b[0m\u001b[0mkwargs\u001b[0m\u001b[1;33m)\u001b[0m\u001b[1;33m[\u001b[0m\u001b[1;36m1\u001b[0m\u001b[1;33m]\u001b[0m\u001b[1;33m\u001b[0m\u001b[1;33m\u001b[0m\u001b[0m\n\u001b[0m\u001b[0;32m   1355\u001b[0m         \u001b[1;32melse\u001b[0m\u001b[1;33m:\u001b[0m\u001b[1;33m\u001b[0m\u001b[1;33m\u001b[0m\u001b[0m\n\u001b[0;32m   1356\u001b[0m             \u001b[1;32mtry\u001b[0m\u001b[1;33m:\u001b[0m\u001b[1;33m\u001b[0m\u001b[1;33m\u001b[0m\u001b[0m\n",
      "\u001b[1;32m~\\Anaconda3\\lib\\site-packages\\pandas\\core\\indexing.py\u001b[0m in \u001b[0;36m_get_listlike_indexer\u001b[1;34m(self, key, axis, raise_missing)\u001b[0m\n\u001b[0;32m   1159\u001b[0m         self._validate_read_indexer(keyarr, indexer,\n\u001b[0;32m   1160\u001b[0m                                     \u001b[0mo\u001b[0m\u001b[1;33m.\u001b[0m\u001b[0m_get_axis_number\u001b[0m\u001b[1;33m(\u001b[0m\u001b[0maxis\u001b[0m\u001b[1;33m)\u001b[0m\u001b[1;33m,\u001b[0m\u001b[1;33m\u001b[0m\u001b[1;33m\u001b[0m\u001b[0m\n\u001b[1;32m-> 1161\u001b[1;33m                                     raise_missing=raise_missing)\n\u001b[0m\u001b[0;32m   1162\u001b[0m         \u001b[1;32mreturn\u001b[0m \u001b[0mkeyarr\u001b[0m\u001b[1;33m,\u001b[0m \u001b[0mindexer\u001b[0m\u001b[1;33m\u001b[0m\u001b[1;33m\u001b[0m\u001b[0m\n\u001b[0;32m   1163\u001b[0m \u001b[1;33m\u001b[0m\u001b[0m\n",
      "\u001b[1;32m~\\Anaconda3\\lib\\site-packages\\pandas\\core\\indexing.py\u001b[0m in \u001b[0;36m_validate_read_indexer\u001b[1;34m(self, key, indexer, axis, raise_missing)\u001b[0m\n\u001b[0;32m   1250\u001b[0m             \u001b[1;32mif\u001b[0m \u001b[1;32mnot\u001b[0m\u001b[1;33m(\u001b[0m\u001b[0mself\u001b[0m\u001b[1;33m.\u001b[0m\u001b[0mname\u001b[0m \u001b[1;33m==\u001b[0m \u001b[1;34m'loc'\u001b[0m \u001b[1;32mand\u001b[0m \u001b[1;32mnot\u001b[0m \u001b[0mraise_missing\u001b[0m\u001b[1;33m)\u001b[0m\u001b[1;33m:\u001b[0m\u001b[1;33m\u001b[0m\u001b[1;33m\u001b[0m\u001b[0m\n\u001b[0;32m   1251\u001b[0m                 \u001b[0mnot_found\u001b[0m \u001b[1;33m=\u001b[0m \u001b[0mlist\u001b[0m\u001b[1;33m(\u001b[0m\u001b[0mset\u001b[0m\u001b[1;33m(\u001b[0m\u001b[0mkey\u001b[0m\u001b[1;33m)\u001b[0m \u001b[1;33m-\u001b[0m \u001b[0mset\u001b[0m\u001b[1;33m(\u001b[0m\u001b[0max\u001b[0m\u001b[1;33m)\u001b[0m\u001b[1;33m)\u001b[0m\u001b[1;33m\u001b[0m\u001b[1;33m\u001b[0m\u001b[0m\n\u001b[1;32m-> 1252\u001b[1;33m                 \u001b[1;32mraise\u001b[0m \u001b[0mKeyError\u001b[0m\u001b[1;33m(\u001b[0m\u001b[1;34m\"{} not in index\"\u001b[0m\u001b[1;33m.\u001b[0m\u001b[0mformat\u001b[0m\u001b[1;33m(\u001b[0m\u001b[0mnot_found\u001b[0m\u001b[1;33m)\u001b[0m\u001b[1;33m)\u001b[0m\u001b[1;33m\u001b[0m\u001b[1;33m\u001b[0m\u001b[0m\n\u001b[0m\u001b[0;32m   1253\u001b[0m \u001b[1;33m\u001b[0m\u001b[0m\n\u001b[0;32m   1254\u001b[0m             \u001b[1;31m# we skip the warning on Categorical/Interval\u001b[0m\u001b[1;33m\u001b[0m\u001b[1;33m\u001b[0m\u001b[1;33m\u001b[0m\u001b[0m\n",
      "\u001b[1;31mKeyError\u001b[0m: \"['Item Name', 'Item ID_x'] not in index\""
     ]
    }
   ],
   "source": [
    "\n",
    "\n",
    "# gets a count of each item by grouping by Item ID and counting the number of each IDs occurances\n",
    "top5_items_ID = pd.DataFrame(purchase_data.groupby('Item ID').count())\n",
    "\n",
    "#sort from high to low total purchase count\n",
    "top5_items_ID.sort_values('Item ID', ascending = False, inplace = True)\n",
    "\n",
    "#keep the first 6 rows because there is a tie\n",
    "top5_items_ID = top5_items_ID.iloc[0:6][:]\n",
    "\n",
    "#find the total purchase value of each item\n",
    "top5_items_total = pd.DataFrame(purchase_data.groupby('Item ID')['Price'].sum())\n",
    "\n",
    "#merge purcahse count and total purcahse value \n",
    "top5_items = pd.merge(top5_items_ID, top5_items_total, left_index = True, right_index = True)\n",
    "\n",
    "#drop duplicate items from original Df\n",
    "no_dup_items = purchase_data.drop_duplicates(['Item ID'], keep = 'last')\n",
    "\n",
    "# merge to get all other info from the top 6 using the no dup df\n",
    "top5_merge_ID = pd.merge(top5_items, no_dup_items, left_index = True, right_on = 'Item ID')\n",
    "\n",
    "#keep only neede columns\n",
    "top5_merge_ID = top5_merge_ID[['Item ID', 'Item Name', 'Item ID_x', 'Price_y', 'Price_x']]\n",
    "\n",
    "#reset index as item ID for aesthetics\n",
    "top5_merge_ID.set_index(['Item ID'], inplace = True)\n",
    "\n",
    "# rename columns\n",
    "top5_merge_ID.rename(columns =  {'Item ID_x': 'Purchase Count', 'Price_y': 'Item Price', 'Price_x': \n",
    "                                 'Total Purchase Value'}, inplace=True)\n",
    "\n",
    "#format\n",
    "top5_merge_ID.style.format({'Item Price': '${:.2f}', 'Total Purchase Value': '${:.2f}'})"
   ]
  },
  {
   "cell_type": "code",
   "execution_count": null,
   "metadata": {},
   "outputs": [],
   "source": []
  },
  {
   "cell_type": "markdown",
   "metadata": {},
   "source": [
    "## Most Profitable Items"
   ]
  },
  {
   "cell_type": "markdown",
   "metadata": {},
   "source": [
    "* Sort the above table by total purchase value in descending order\n",
    "\n",
    "\n",
    "* Optional: give the displayed data cleaner formatting\n",
    "\n",
    "\n",
    "* Display a preview of the data frame\n",
    "\n"
   ]
  },
  {
   "cell_type": "code",
   "execution_count": 216,
   "metadata": {},
   "outputs": [
    {
     "data": {
      "text/html": [
       "<style  type=\"text/css\" >\n",
       "</style><table id=\"T_53efe422_93c4_11e9_a1f0_04d3b04b338f\" ><thead>    <tr>        <th class=\"blank level0\" ></th>        <th class=\"col_heading level0 col0\" >Item Name</th>        <th class=\"col_heading level0 col1\" >Purchase Count</th>        <th class=\"col_heading level0 col2\" >Item Price</th>        <th class=\"col_heading level0 col3\" >Total Purchase Value</th>    </tr>    <tr>        <th class=\"index_name level0\" >Item ID</th>        <th class=\"blank\" ></th>        <th class=\"blank\" ></th>        <th class=\"blank\" ></th>        <th class=\"blank\" ></th>    </tr></thead><tbody>\n",
       "                <tr>\n",
       "                        <th id=\"T_53efe422_93c4_11e9_a1f0_04d3b04b338flevel0_row0\" class=\"row_heading level0 row0\" >178</th>\n",
       "                        <td id=\"T_53efe422_93c4_11e9_a1f0_04d3b04b338frow0_col0\" class=\"data row0 col0\" >Oathbreaker, Last Hope of the Breaking Storm</td>\n",
       "                        <td id=\"T_53efe422_93c4_11e9_a1f0_04d3b04b338frow0_col1\" class=\"data row0 col1\" >12</td>\n",
       "                        <td id=\"T_53efe422_93c4_11e9_a1f0_04d3b04b338frow0_col2\" class=\"data row0 col2\" >$4.23</td>\n",
       "                        <td id=\"T_53efe422_93c4_11e9_a1f0_04d3b04b338frow0_col3\" class=\"data row0 col3\" >$50.76</td>\n",
       "            </tr>\n",
       "            <tr>\n",
       "                        <th id=\"T_53efe422_93c4_11e9_a1f0_04d3b04b338flevel0_row1\" class=\"row_heading level0 row1\" >82</th>\n",
       "                        <td id=\"T_53efe422_93c4_11e9_a1f0_04d3b04b338frow1_col0\" class=\"data row1 col0\" >Nirvana</td>\n",
       "                        <td id=\"T_53efe422_93c4_11e9_a1f0_04d3b04b338frow1_col1\" class=\"data row1 col1\" >9</td>\n",
       "                        <td id=\"T_53efe422_93c4_11e9_a1f0_04d3b04b338frow1_col2\" class=\"data row1 col2\" >$4.90</td>\n",
       "                        <td id=\"T_53efe422_93c4_11e9_a1f0_04d3b04b338frow1_col3\" class=\"data row1 col3\" >$44.10</td>\n",
       "            </tr>\n",
       "            <tr>\n",
       "                        <th id=\"T_53efe422_93c4_11e9_a1f0_04d3b04b338flevel0_row2\" class=\"row_heading level0 row2\" >145</th>\n",
       "                        <td id=\"T_53efe422_93c4_11e9_a1f0_04d3b04b338frow2_col0\" class=\"data row2 col0\" >Fiery Glass Crusader</td>\n",
       "                        <td id=\"T_53efe422_93c4_11e9_a1f0_04d3b04b338frow2_col1\" class=\"data row2 col1\" >9</td>\n",
       "                        <td id=\"T_53efe422_93c4_11e9_a1f0_04d3b04b338frow2_col2\" class=\"data row2 col2\" >$4.58</td>\n",
       "                        <td id=\"T_53efe422_93c4_11e9_a1f0_04d3b04b338frow2_col3\" class=\"data row2 col3\" >$41.22</td>\n",
       "            </tr>\n",
       "            <tr>\n",
       "                        <th id=\"T_53efe422_93c4_11e9_a1f0_04d3b04b338flevel0_row3\" class=\"row_heading level0 row3\" >92</th>\n",
       "                        <td id=\"T_53efe422_93c4_11e9_a1f0_04d3b04b338frow3_col0\" class=\"data row3 col0\" >Final Critic</td>\n",
       "                        <td id=\"T_53efe422_93c4_11e9_a1f0_04d3b04b338frow3_col1\" class=\"data row3 col1\" >8</td>\n",
       "                        <td id=\"T_53efe422_93c4_11e9_a1f0_04d3b04b338frow3_col2\" class=\"data row3 col2\" >$4.88</td>\n",
       "                        <td id=\"T_53efe422_93c4_11e9_a1f0_04d3b04b338frow3_col3\" class=\"data row3 col3\" >$39.04</td>\n",
       "            </tr>\n",
       "            <tr>\n",
       "                        <th id=\"T_53efe422_93c4_11e9_a1f0_04d3b04b338flevel0_row4\" class=\"row_heading level0 row4\" >103</th>\n",
       "                        <td id=\"T_53efe422_93c4_11e9_a1f0_04d3b04b338frow4_col0\" class=\"data row4 col0\" >Singed Scalpel</td>\n",
       "                        <td id=\"T_53efe422_93c4_11e9_a1f0_04d3b04b338frow4_col1\" class=\"data row4 col1\" >8</td>\n",
       "                        <td id=\"T_53efe422_93c4_11e9_a1f0_04d3b04b338frow4_col2\" class=\"data row4 col2\" >$4.35</td>\n",
       "                        <td id=\"T_53efe422_93c4_11e9_a1f0_04d3b04b338frow4_col3\" class=\"data row4 col3\" >$34.80</td>\n",
       "            </tr>\n",
       "    </tbody></table>"
      ],
      "text/plain": [
       "<pandas.io.formats.style.Styler at 0x236fd00ad68>"
      ]
     },
     "execution_count": 216,
     "metadata": {},
     "output_type": "execute_result"
    }
   ],
   "source": [
    "# find total purcahse value and sort by high to low\n",
    "top5_profit = pd.DataFrame(purchase_data.groupby('Item ID')['Price'].sum())\n",
    "top5_profit.sort_values('Price', ascending = False, inplace = True)\n",
    "\n",
    "# only keep top 5\n",
    "top5_profit = top5_profit.iloc[0:5][:]\n",
    "\n",
    "#get item purchase count\n",
    "pur_count_profit = pd.DataFrame(purchase_data.groupby('Item ID')['Item ID'].count())\n",
    "\n",
    "top5_profit = pd.merge(top5_profit, pur_count_profit, left_index = True, right_index = True, how = 'left')\n",
    "top5_merge_profit = pd.merge(top5_profit, no_dup_items, left_index = True, right_on = 'Item ID', how = 'left')\n",
    "top5_merge_profit = top5_merge_profit[['Item ID', 'Item Name', 'Item ID_x', 'Price_y','Price_x']]\n",
    "top5_merge_profit.set_index(['Item ID'], inplace=True)\n",
    "top5_merge_profit.rename(columns = {'Item ID_x': 'Purchase Count', 'Price_y': 'Item Price', 'Price_x': 'Total Purchase Value'}, inplace = True)\n",
    "top5_merge_profit.style.format({'Item Price': '${:.2f}', 'Total Purchase Value': '${:.2f}'})"
   ]
  },
  {
   "cell_type": "code",
   "execution_count": 10,
   "metadata": {
    "scrolled": true
   },
   "outputs": [
    {
     "data": {
      "text/html": [
       "<div>\n",
       "<table border=\"1\" class=\"dataframe\">\n",
       "  <thead>\n",
       "    <tr style=\"text-align: right;\">\n",
       "      <th></th>\n",
       "      <th></th>\n",
       "      <th>Purchase Count</th>\n",
       "      <th>Item Price</th>\n",
       "      <th>Total Purchase Value</th>\n",
       "    </tr>\n",
       "    <tr>\n",
       "      <th>Item ID</th>\n",
       "      <th>Item Name</th>\n",
       "      <th></th>\n",
       "      <th></th>\n",
       "      <th></th>\n",
       "    </tr>\n",
       "  </thead>\n",
       "  <tbody>\n",
       "    <tr>\n",
       "      <th>178</th>\n",
       "      <th>Oathbreaker, Last Hope of the Breaking Storm</th>\n",
       "      <td>12</td>\n",
       "      <td>$4.23</td>\n",
       "      <td>$50.76</td>\n",
       "    </tr>\n",
       "    <tr>\n",
       "      <th>82</th>\n",
       "      <th>Nirvana</th>\n",
       "      <td>9</td>\n",
       "      <td>$4.90</td>\n",
       "      <td>$44.10</td>\n",
       "    </tr>\n",
       "    <tr>\n",
       "      <th>145</th>\n",
       "      <th>Fiery Glass Crusader</th>\n",
       "      <td>9</td>\n",
       "      <td>$4.58</td>\n",
       "      <td>$41.22</td>\n",
       "    </tr>\n",
       "    <tr>\n",
       "      <th>92</th>\n",
       "      <th>Final Critic</th>\n",
       "      <td>8</td>\n",
       "      <td>$4.88</td>\n",
       "      <td>$39.04</td>\n",
       "    </tr>\n",
       "    <tr>\n",
       "      <th>103</th>\n",
       "      <th>Singed Scalpel</th>\n",
       "      <td>8</td>\n",
       "      <td>$4.35</td>\n",
       "      <td>$34.80</td>\n",
       "    </tr>\n",
       "  </tbody>\n",
       "</table>\n",
       "</div>"
      ],
      "text/plain": [
       "                                                     Purchase Count  \\\n",
       "Item ID Item Name                                                     \n",
       "178     Oathbreaker, Last Hope of the Breaking Storm             12   \n",
       "82      Nirvana                                                   9   \n",
       "145     Fiery Glass Crusader                                      9   \n",
       "92      Final Critic                                              8   \n",
       "103     Singed Scalpel                                            8   \n",
       "\n",
       "                                                     Item Price  \\\n",
       "Item ID Item Name                                                 \n",
       "178     Oathbreaker, Last Hope of the Breaking Storm      $4.23   \n",
       "82      Nirvana                                           $4.90   \n",
       "145     Fiery Glass Crusader                              $4.58   \n",
       "92      Final Critic                                      $4.88   \n",
       "103     Singed Scalpel                                    $4.35   \n",
       "\n",
       "                                                     Total Purchase Value  \n",
       "Item ID Item Name                                                          \n",
       "178     Oathbreaker, Last Hope of the Breaking Storm               $50.76  \n",
       "82      Nirvana                                                    $44.10  \n",
       "145     Fiery Glass Crusader                                       $41.22  \n",
       "92      Final Critic                                               $39.04  \n",
       "103     Singed Scalpel                                             $34.80  "
      ]
     },
     "execution_count": 10,
     "metadata": {},
     "output_type": "execute_result"
    }
   ],
   "source": []
  }
 ],
 "metadata": {
  "anaconda-cloud": {},
  "kernel_info": {
   "name": "python3"
  },
  "kernelspec": {
   "display_name": "Python 3",
   "language": "python",
   "name": "python3"
  },
  "language_info": {
   "codemirror_mode": {
    "name": "ipython",
    "version": 3
   },
   "file_extension": ".py",
   "mimetype": "text/x-python",
   "name": "python",
   "nbconvert_exporter": "python",
   "pygments_lexer": "ipython3",
   "version": "3.7.3"
  },
  "nteract": {
   "version": "0.2.0"
  }
 },
 "nbformat": 4,
 "nbformat_minor": 2
}
